{
  "nbformat": 4,
  "nbformat_minor": 0,
  "metadata": {
    "kernelspec": {
      "display_name": "Python 3",
      "language": "python",
      "name": "python3"
    },
    "language_info": {
      "codemirror_mode": {
        "name": "ipython",
        "version": 3
      },
      "file_extension": ".py",
      "mimetype": "text/x-python",
      "name": "python",
      "nbconvert_exporter": "python",
      "pygments_lexer": "ipython3",
      "version": "3.6.8"
    },
    "colab": {
      "name": "Foreign_rec.ipynb",
      "provenance": []
    }
  },
  "cells": [
    {
      "cell_type": "code",
      "metadata": {
        "id": "WqRhkjbTZtB1",
        "colab_type": "code",
        "colab": {
          "base_uri": "https://localhost:8080/",
          "height": 68
        },
        "outputId": "66f4673a-13c7-4d83-b9c3-c0d3e991528d"
      },
      "source": [
        "!curl -o \"ml-latest.zip\" \"http://files.grouplens.org/datasets/movielens/ml-latest.zip\""
      ],
      "execution_count": 1,
      "outputs": [
        {
          "output_type": "stream",
          "text": [
            "  % Total    % Received % Xferd  Average Speed   Time    Time     Time  Current\n",
            "                                 Dload  Upload   Total   Spent    Left  Speed\n",
            "100  264M  100  264M    0     0  60.8M      0  0:00:04  0:00:04 --:--:-- 60.8M\n"
          ],
          "name": "stdout"
        }
      ]
    },
    {
      "cell_type": "code",
      "metadata": {
        "id": "ciTnnHD-ajFT",
        "colab_type": "code",
        "colab": {
          "base_uri": "https://localhost:8080/",
          "height": 68
        },
        "outputId": "07d0ec20-9b1a-4c32-b9be-66a6d85e78f8"
      },
      "source": [
        "!curl -o \"keyvec.zip\" \"http://vectors.nlpl.eu/repository/20/6.zip\""
      ],
      "execution_count": 2,
      "outputs": [
        {
          "output_type": "stream",
          "text": [
            "  % Total    % Received % Xferd  Average Speed   Time    Time     Time  Current\n",
            "                                 Dload  Upload   Total   Spent    Left  Speed\n",
            "100  605M  100  605M    0     0  17.2M      0  0:00:35  0:00:35 --:--:-- 22.0M\n"
          ],
          "name": "stdout"
        }
      ]
    },
    {
      "cell_type": "code",
      "metadata": {
        "id": "mZiSzSwtbAyL",
        "colab_type": "code",
        "colab": {
          "base_uri": "https://localhost:8080/",
          "height": 170
        },
        "outputId": "0bf2c507-472a-4b0e-fcef-09cf378ef266"
      },
      "source": [
        "%%bash\n",
        "unzip keyvec.zip\n",
        "unzip ml-latest.zip"
      ],
      "execution_count": 8,
      "outputs": [
        {
          "output_type": "stream",
          "text": [
            "Archive:  ml-latest.zip\n",
            "   creating: ml-latest/\n",
            "  inflating: ml-latest/links.csv     \n",
            "  inflating: ml-latest/tags.csv      \n",
            "  inflating: ml-latest/genome-tags.csv  \n",
            "  inflating: ml-latest/ratings.csv   \n",
            "  inflating: ml-latest/README.txt    \n",
            "  inflating: ml-latest/genome-scores.csv  \n",
            "  inflating: ml-latest/movies.csv    \n"
          ],
          "name": "stdout"
        }
      ]
    },
    {
      "cell_type": "code",
      "metadata": {
        "id": "Vh72cG1Qd34Q",
        "colab_type": "code",
        "colab": {}
      },
      "source": [
        "!rm ml-latest/production.csv"
      ],
      "execution_count": 22,
      "outputs": []
    },
    {
      "cell_type": "code",
      "metadata": {
        "id": "B6bebGKCdNqg",
        "colab_type": "code",
        "colab": {}
      },
      "source": [
        "%%bash \n",
        "echo '{\"username\":\"anirudhnarsipur\",\"key\":\"6cc2804ccd69dd37b0b72de821ef47d3\"}' > ~/.kaggle/kaggle.json "
      ],
      "execution_count": 13,
      "outputs": []
    },
    {
      "cell_type": "code",
      "metadata": {
        "id": "8z1WxjBsbg0B",
        "colab_type": "code",
        "colab": {
          "base_uri": "https://localhost:8080/",
          "height": 85
        },
        "outputId": "ae1d345a-b191-4b66-a63b-9dc19df05840"
      },
      "source": [
        "!kaggle datasets download -d danielgrijalvas/movies"
      ],
      "execution_count": 14,
      "outputs": [
        {
          "output_type": "stream",
          "text": [
            "Warning: Your Kaggle API key is readable by other users on this system! To fix this, you can run 'chmod 600 /root/.kaggle/kaggle.json'\n",
            "Downloading movies.zip to /content\n",
            "  0% 0.00/369k [00:00<?, ?B/s]\n",
            "100% 369k/369k [00:00<00:00, 58.5MB/s]\n"
          ],
          "name": "stdout"
        }
      ]
    },
    {
      "cell_type": "code",
      "metadata": {
        "id": "NEwnwPWueMgA",
        "colab_type": "code",
        "colab": {
          "base_uri": "https://localhost:8080/",
          "height": 51
        },
        "outputId": "033d8174-5416-480c-89c0-fe011412533a"
      },
      "source": [
        "!unzip movies.zip"
      ],
      "execution_count": 24,
      "outputs": [
        {
          "output_type": "stream",
          "text": [
            "Archive:  movies.zip\n",
            "  inflating: movies.csv              \n"
          ],
          "name": "stdout"
        }
      ]
    },
    {
      "cell_type": "code",
      "metadata": {
        "id": "Fs1X0HsOZqkL",
        "colab_type": "code",
        "colab": {}
      },
      "source": [
        "import os \n",
        "import re\n",
        "import pandas as pd\n",
        "import numpy as np\n",
        "from gensim.models import KeyedVectors\n",
        "from gensim.test.utils import datapath\n"
      ],
      "execution_count": 35,
      "outputs": []
    },
    {
      "cell_type": "code",
      "metadata": {
        "id": "E9-MGOgpZqkT",
        "colab_type": "code",
        "colab": {
          "base_uri": "https://localhost:8080/",
          "height": 51
        },
        "outputId": "95b740e0-e6df-4a21-b3b6-17669b939de4"
      },
      "source": [
        "!ls"
      ],
      "execution_count": 23,
      "outputs": [
        {
          "output_type": "stream",
          "text": [
            "keyvec.zip  ml-latest\t   model.bin  movies.zip  sample_data\n",
            "meta.json   ml-latest.zip  model.txt  README\n"
          ],
          "name": "stdout"
        }
      ]
    },
    {
      "cell_type": "code",
      "metadata": {
        "id": "QpzILeiIZqka",
        "colab_type": "code",
        "colab": {
          "base_uri": "https://localhost:8080/",
          "height": 34
        },
        "outputId": "b8e295aa-f660-4741-afc0-de825491d11c"
      },
      "source": [
        "data_dir = 'ml-latest/'\n",
        "data_files = os.listdir('ml-latest/')\n",
        "print(data_files)"
      ],
      "execution_count": 17,
      "outputs": [
        {
          "output_type": "stream",
          "text": [
            "['movies.csv', 'tags.csv', 'production.csv', 'README.txt', 'ratings.csv', 'genome-scores.csv', 'links.csv', 'genome-tags.csv']\n"
          ],
          "name": "stdout"
        }
      ]
    },
    {
      "cell_type": "code",
      "metadata": {
        "id": "aiaN0tfEZqke",
        "colab_type": "code",
        "colab": {}
      },
      "source": [
        "\n",
        "movies = pd.read_csv(data_dir+\"movies.csv\")\n",
        "metadata = pd.read_csv(data_dir+'genome-tags.csv')\n",
        "ratings = pd.read_csv(data_dir + 'ratings.csv')\n"
      ],
      "execution_count": 18,
      "outputs": []
    },
    {
      "cell_type": "code",
      "metadata": {
        "id": "M4_8IFOaZqki",
        "colab_type": "code",
        "colab": {}
      },
      "source": [
        "produc = pd.read_csv(\"movies.csv\",encoding='latin')"
      ],
      "execution_count": 25,
      "outputs": []
    },
    {
      "cell_type": "code",
      "metadata": {
        "id": "e1_5sZvmZqkm",
        "colab_type": "code",
        "colab": {
          "base_uri": "https://localhost:8080/",
          "height": 204
        },
        "outputId": "f24d3c3d-f8cf-400b-d4f2-6ef83b401a96"
      },
      "source": [
        "movies.head()"
      ],
      "execution_count": 26,
      "outputs": [
        {
          "output_type": "execute_result",
          "data": {
            "text/html": [
              "<div>\n",
              "<style scoped>\n",
              "    .dataframe tbody tr th:only-of-type {\n",
              "        vertical-align: middle;\n",
              "    }\n",
              "\n",
              "    .dataframe tbody tr th {\n",
              "        vertical-align: top;\n",
              "    }\n",
              "\n",
              "    .dataframe thead th {\n",
              "        text-align: right;\n",
              "    }\n",
              "</style>\n",
              "<table border=\"1\" class=\"dataframe\">\n",
              "  <thead>\n",
              "    <tr style=\"text-align: right;\">\n",
              "      <th></th>\n",
              "      <th>movieId</th>\n",
              "      <th>title</th>\n",
              "      <th>genres</th>\n",
              "    </tr>\n",
              "  </thead>\n",
              "  <tbody>\n",
              "    <tr>\n",
              "      <th>0</th>\n",
              "      <td>1</td>\n",
              "      <td>Toy Story (1995)</td>\n",
              "      <td>Adventure|Animation|Children|Comedy|Fantasy</td>\n",
              "    </tr>\n",
              "    <tr>\n",
              "      <th>1</th>\n",
              "      <td>2</td>\n",
              "      <td>Jumanji (1995)</td>\n",
              "      <td>Adventure|Children|Fantasy</td>\n",
              "    </tr>\n",
              "    <tr>\n",
              "      <th>2</th>\n",
              "      <td>3</td>\n",
              "      <td>Grumpier Old Men (1995)</td>\n",
              "      <td>Comedy|Romance</td>\n",
              "    </tr>\n",
              "    <tr>\n",
              "      <th>3</th>\n",
              "      <td>4</td>\n",
              "      <td>Waiting to Exhale (1995)</td>\n",
              "      <td>Comedy|Drama|Romance</td>\n",
              "    </tr>\n",
              "    <tr>\n",
              "      <th>4</th>\n",
              "      <td>5</td>\n",
              "      <td>Father of the Bride Part II (1995)</td>\n",
              "      <td>Comedy</td>\n",
              "    </tr>\n",
              "  </tbody>\n",
              "</table>\n",
              "</div>"
            ],
            "text/plain": [
              "   movieId  ...                                       genres\n",
              "0        1  ...  Adventure|Animation|Children|Comedy|Fantasy\n",
              "1        2  ...                   Adventure|Children|Fantasy\n",
              "2        3  ...                               Comedy|Romance\n",
              "3        4  ...                         Comedy|Drama|Romance\n",
              "4        5  ...                                       Comedy\n",
              "\n",
              "[5 rows x 3 columns]"
            ]
          },
          "metadata": {
            "tags": []
          },
          "execution_count": 26
        }
      ]
    },
    {
      "cell_type": "code",
      "metadata": {
        "id": "xzb6nm7FZqkq",
        "colab_type": "code",
        "colab": {
          "base_uri": "https://localhost:8080/",
          "height": 204
        },
        "outputId": "a64eff38-347e-419d-93a8-cc9d614b442c"
      },
      "source": [
        "metadata.sample(5)"
      ],
      "execution_count": 27,
      "outputs": [
        {
          "output_type": "execute_result",
          "data": {
            "text/html": [
              "<div>\n",
              "<style scoped>\n",
              "    .dataframe tbody tr th:only-of-type {\n",
              "        vertical-align: middle;\n",
              "    }\n",
              "\n",
              "    .dataframe tbody tr th {\n",
              "        vertical-align: top;\n",
              "    }\n",
              "\n",
              "    .dataframe thead th {\n",
              "        text-align: right;\n",
              "    }\n",
              "</style>\n",
              "<table border=\"1\" class=\"dataframe\">\n",
              "  <thead>\n",
              "    <tr style=\"text-align: right;\">\n",
              "      <th></th>\n",
              "      <th>tagId</th>\n",
              "      <th>tag</th>\n",
              "    </tr>\n",
              "  </thead>\n",
              "  <tbody>\n",
              "    <tr>\n",
              "      <th>465</th>\n",
              "      <td>466</td>\n",
              "      <td>great cinematography</td>\n",
              "    </tr>\n",
              "    <tr>\n",
              "      <th>47</th>\n",
              "      <td>48</td>\n",
              "      <td>alone in the world</td>\n",
              "    </tr>\n",
              "    <tr>\n",
              "      <th>1091</th>\n",
              "      <td>1092</td>\n",
              "      <td>visually stunning</td>\n",
              "    </tr>\n",
              "    <tr>\n",
              "      <th>885</th>\n",
              "      <td>886</td>\n",
              "      <td>sci fi</td>\n",
              "    </tr>\n",
              "    <tr>\n",
              "      <th>948</th>\n",
              "      <td>949</td>\n",
              "      <td>spanish civil war</td>\n",
              "    </tr>\n",
              "  </tbody>\n",
              "</table>\n",
              "</div>"
            ],
            "text/plain": [
              "      tagId                   tag\n",
              "465     466  great cinematography\n",
              "47       48    alone in the world\n",
              "1091   1092     visually stunning\n",
              "885     886                sci fi\n",
              "948     949     spanish civil war"
            ]
          },
          "metadata": {
            "tags": []
          },
          "execution_count": 27
        }
      ]
    },
    {
      "cell_type": "code",
      "metadata": {
        "id": "0QEHMa5aZqkv",
        "colab_type": "code",
        "colab": {
          "base_uri": "https://localhost:8080/",
          "height": 289
        },
        "outputId": "6aa3353b-6238-4090-d1eb-5aaa98983fe9"
      },
      "source": [
        "produc.head()"
      ],
      "execution_count": 28,
      "outputs": [
        {
          "output_type": "execute_result",
          "data": {
            "text/html": [
              "<div>\n",
              "<style scoped>\n",
              "    .dataframe tbody tr th:only-of-type {\n",
              "        vertical-align: middle;\n",
              "    }\n",
              "\n",
              "    .dataframe tbody tr th {\n",
              "        vertical-align: top;\n",
              "    }\n",
              "\n",
              "    .dataframe thead th {\n",
              "        text-align: right;\n",
              "    }\n",
              "</style>\n",
              "<table border=\"1\" class=\"dataframe\">\n",
              "  <thead>\n",
              "    <tr style=\"text-align: right;\">\n",
              "      <th></th>\n",
              "      <th>budget</th>\n",
              "      <th>company</th>\n",
              "      <th>country</th>\n",
              "      <th>director</th>\n",
              "      <th>genre</th>\n",
              "      <th>gross</th>\n",
              "      <th>name</th>\n",
              "      <th>rating</th>\n",
              "      <th>released</th>\n",
              "      <th>runtime</th>\n",
              "      <th>score</th>\n",
              "      <th>star</th>\n",
              "      <th>votes</th>\n",
              "      <th>writer</th>\n",
              "      <th>year</th>\n",
              "    </tr>\n",
              "  </thead>\n",
              "  <tbody>\n",
              "    <tr>\n",
              "      <th>0</th>\n",
              "      <td>8000000.0</td>\n",
              "      <td>Columbia Pictures Corporation</td>\n",
              "      <td>USA</td>\n",
              "      <td>Rob Reiner</td>\n",
              "      <td>Adventure</td>\n",
              "      <td>52287414.0</td>\n",
              "      <td>Stand by Me</td>\n",
              "      <td>R</td>\n",
              "      <td>1986-08-22</td>\n",
              "      <td>89</td>\n",
              "      <td>8.1</td>\n",
              "      <td>Wil Wheaton</td>\n",
              "      <td>299174</td>\n",
              "      <td>Stephen King</td>\n",
              "      <td>1986</td>\n",
              "    </tr>\n",
              "    <tr>\n",
              "      <th>1</th>\n",
              "      <td>6000000.0</td>\n",
              "      <td>Paramount Pictures</td>\n",
              "      <td>USA</td>\n",
              "      <td>John Hughes</td>\n",
              "      <td>Comedy</td>\n",
              "      <td>70136369.0</td>\n",
              "      <td>Ferris Bueller's Day Off</td>\n",
              "      <td>PG-13</td>\n",
              "      <td>1986-06-11</td>\n",
              "      <td>103</td>\n",
              "      <td>7.8</td>\n",
              "      <td>Matthew Broderick</td>\n",
              "      <td>264740</td>\n",
              "      <td>John Hughes</td>\n",
              "      <td>1986</td>\n",
              "    </tr>\n",
              "    <tr>\n",
              "      <th>2</th>\n",
              "      <td>15000000.0</td>\n",
              "      <td>Paramount Pictures</td>\n",
              "      <td>USA</td>\n",
              "      <td>Tony Scott</td>\n",
              "      <td>Action</td>\n",
              "      <td>179800601.0</td>\n",
              "      <td>Top Gun</td>\n",
              "      <td>PG</td>\n",
              "      <td>1986-05-16</td>\n",
              "      <td>110</td>\n",
              "      <td>6.9</td>\n",
              "      <td>Tom Cruise</td>\n",
              "      <td>236909</td>\n",
              "      <td>Jim Cash</td>\n",
              "      <td>1986</td>\n",
              "    </tr>\n",
              "    <tr>\n",
              "      <th>3</th>\n",
              "      <td>18500000.0</td>\n",
              "      <td>Twentieth Century Fox Film Corporation</td>\n",
              "      <td>USA</td>\n",
              "      <td>James Cameron</td>\n",
              "      <td>Action</td>\n",
              "      <td>85160248.0</td>\n",
              "      <td>Aliens</td>\n",
              "      <td>R</td>\n",
              "      <td>1986-07-18</td>\n",
              "      <td>137</td>\n",
              "      <td>8.4</td>\n",
              "      <td>Sigourney Weaver</td>\n",
              "      <td>540152</td>\n",
              "      <td>James Cameron</td>\n",
              "      <td>1986</td>\n",
              "    </tr>\n",
              "    <tr>\n",
              "      <th>4</th>\n",
              "      <td>9000000.0</td>\n",
              "      <td>Walt Disney Pictures</td>\n",
              "      <td>USA</td>\n",
              "      <td>Randal Kleiser</td>\n",
              "      <td>Adventure</td>\n",
              "      <td>18564613.0</td>\n",
              "      <td>Flight of the Navigator</td>\n",
              "      <td>PG</td>\n",
              "      <td>1986-08-01</td>\n",
              "      <td>90</td>\n",
              "      <td>6.9</td>\n",
              "      <td>Joey Cramer</td>\n",
              "      <td>36636</td>\n",
              "      <td>Mark H. Baker</td>\n",
              "      <td>1986</td>\n",
              "    </tr>\n",
              "  </tbody>\n",
              "</table>\n",
              "</div>"
            ],
            "text/plain": [
              "       budget                                 company  ...         writer  year\n",
              "0   8000000.0           Columbia Pictures Corporation  ...   Stephen King  1986\n",
              "1   6000000.0                      Paramount Pictures  ...    John Hughes  1986\n",
              "2  15000000.0                      Paramount Pictures  ...       Jim Cash  1986\n",
              "3  18500000.0  Twentieth Century Fox Film Corporation  ...  James Cameron  1986\n",
              "4   9000000.0                    Walt Disney Pictures  ...  Mark H. Baker  1986\n",
              "\n",
              "[5 rows x 15 columns]"
            ]
          },
          "metadata": {
            "tags": []
          },
          "execution_count": 28
        }
      ]
    },
    {
      "cell_type": "code",
      "metadata": {
        "id": "suGbDzXBZqkz",
        "colab_type": "code",
        "colab": {
          "base_uri": "https://localhost:8080/",
          "height": 204
        },
        "outputId": "8fa17cd8-a80f-4b85-917b-9a083a145604"
      },
      "source": [
        "movies[\"name\"] = movies[\"title\"].apply(lambda s:re.sub(r\" ?\\([^)]+\\)\", \"\",s) )\n",
        "movies.head()"
      ],
      "execution_count": 29,
      "outputs": [
        {
          "output_type": "execute_result",
          "data": {
            "text/html": [
              "<div>\n",
              "<style scoped>\n",
              "    .dataframe tbody tr th:only-of-type {\n",
              "        vertical-align: middle;\n",
              "    }\n",
              "\n",
              "    .dataframe tbody tr th {\n",
              "        vertical-align: top;\n",
              "    }\n",
              "\n",
              "    .dataframe thead th {\n",
              "        text-align: right;\n",
              "    }\n",
              "</style>\n",
              "<table border=\"1\" class=\"dataframe\">\n",
              "  <thead>\n",
              "    <tr style=\"text-align: right;\">\n",
              "      <th></th>\n",
              "      <th>movieId</th>\n",
              "      <th>title</th>\n",
              "      <th>genres</th>\n",
              "      <th>name</th>\n",
              "    </tr>\n",
              "  </thead>\n",
              "  <tbody>\n",
              "    <tr>\n",
              "      <th>0</th>\n",
              "      <td>1</td>\n",
              "      <td>Toy Story (1995)</td>\n",
              "      <td>Adventure|Animation|Children|Comedy|Fantasy</td>\n",
              "      <td>Toy Story</td>\n",
              "    </tr>\n",
              "    <tr>\n",
              "      <th>1</th>\n",
              "      <td>2</td>\n",
              "      <td>Jumanji (1995)</td>\n",
              "      <td>Adventure|Children|Fantasy</td>\n",
              "      <td>Jumanji</td>\n",
              "    </tr>\n",
              "    <tr>\n",
              "      <th>2</th>\n",
              "      <td>3</td>\n",
              "      <td>Grumpier Old Men (1995)</td>\n",
              "      <td>Comedy|Romance</td>\n",
              "      <td>Grumpier Old Men</td>\n",
              "    </tr>\n",
              "    <tr>\n",
              "      <th>3</th>\n",
              "      <td>4</td>\n",
              "      <td>Waiting to Exhale (1995)</td>\n",
              "      <td>Comedy|Drama|Romance</td>\n",
              "      <td>Waiting to Exhale</td>\n",
              "    </tr>\n",
              "    <tr>\n",
              "      <th>4</th>\n",
              "      <td>5</td>\n",
              "      <td>Father of the Bride Part II (1995)</td>\n",
              "      <td>Comedy</td>\n",
              "      <td>Father of the Bride Part II</td>\n",
              "    </tr>\n",
              "  </tbody>\n",
              "</table>\n",
              "</div>"
            ],
            "text/plain": [
              "   movieId  ...                         name\n",
              "0        1  ...                    Toy Story\n",
              "1        2  ...                      Jumanji\n",
              "2        3  ...             Grumpier Old Men\n",
              "3        4  ...            Waiting to Exhale\n",
              "4        5  ...  Father of the Bride Part II\n",
              "\n",
              "[5 rows x 4 columns]"
            ]
          },
          "metadata": {
            "tags": []
          },
          "execution_count": 29
        }
      ]
    },
    {
      "cell_type": "code",
      "metadata": {
        "id": "vH_M-bWnZqk3",
        "colab_type": "code",
        "colab": {
          "base_uri": "https://localhost:8080/",
          "height": 411
        },
        "outputId": "3c119e55-7ace-4aa0-bae6-75c0b50e93ff"
      },
      "source": [
        "df = pd.merge(movies,produc,on=\"name\")\n",
        "df.head()"
      ],
      "execution_count": 30,
      "outputs": [
        {
          "output_type": "execute_result",
          "data": {
            "text/html": [
              "<div>\n",
              "<style scoped>\n",
              "    .dataframe tbody tr th:only-of-type {\n",
              "        vertical-align: middle;\n",
              "    }\n",
              "\n",
              "    .dataframe tbody tr th {\n",
              "        vertical-align: top;\n",
              "    }\n",
              "\n",
              "    .dataframe thead th {\n",
              "        text-align: right;\n",
              "    }\n",
              "</style>\n",
              "<table border=\"1\" class=\"dataframe\">\n",
              "  <thead>\n",
              "    <tr style=\"text-align: right;\">\n",
              "      <th></th>\n",
              "      <th>movieId</th>\n",
              "      <th>title</th>\n",
              "      <th>genres</th>\n",
              "      <th>name</th>\n",
              "      <th>budget</th>\n",
              "      <th>company</th>\n",
              "      <th>country</th>\n",
              "      <th>director</th>\n",
              "      <th>genre</th>\n",
              "      <th>gross</th>\n",
              "      <th>rating</th>\n",
              "      <th>released</th>\n",
              "      <th>runtime</th>\n",
              "      <th>score</th>\n",
              "      <th>star</th>\n",
              "      <th>votes</th>\n",
              "      <th>writer</th>\n",
              "      <th>year</th>\n",
              "    </tr>\n",
              "  </thead>\n",
              "  <tbody>\n",
              "    <tr>\n",
              "      <th>0</th>\n",
              "      <td>1</td>\n",
              "      <td>Toy Story (1995)</td>\n",
              "      <td>Adventure|Animation|Children|Comedy|Fantasy</td>\n",
              "      <td>Toy Story</td>\n",
              "      <td>30000000.0</td>\n",
              "      <td>Pixar Animation Studios</td>\n",
              "      <td>USA</td>\n",
              "      <td>John Lasseter</td>\n",
              "      <td>Animation</td>\n",
              "      <td>191796233.0</td>\n",
              "      <td>G</td>\n",
              "      <td>1995-11-22</td>\n",
              "      <td>81</td>\n",
              "      <td>8.3</td>\n",
              "      <td>Tom Hanks</td>\n",
              "      <td>694113</td>\n",
              "      <td>John Lasseter</td>\n",
              "      <td>1995</td>\n",
              "    </tr>\n",
              "    <tr>\n",
              "      <th>1</th>\n",
              "      <td>2</td>\n",
              "      <td>Jumanji (1995)</td>\n",
              "      <td>Adventure|Children|Fantasy</td>\n",
              "      <td>Jumanji</td>\n",
              "      <td>50000000.0</td>\n",
              "      <td>TriStar Pictures</td>\n",
              "      <td>USA</td>\n",
              "      <td>Joe Johnston</td>\n",
              "      <td>Action</td>\n",
              "      <td>100475249.0</td>\n",
              "      <td>PG</td>\n",
              "      <td>1995-12-15</td>\n",
              "      <td>104</td>\n",
              "      <td>6.9</td>\n",
              "      <td>Robin Williams</td>\n",
              "      <td>232339</td>\n",
              "      <td>Jonathan Hensleigh</td>\n",
              "      <td>1995</td>\n",
              "    </tr>\n",
              "    <tr>\n",
              "      <th>2</th>\n",
              "      <td>3</td>\n",
              "      <td>Grumpier Old Men (1995)</td>\n",
              "      <td>Comedy|Romance</td>\n",
              "      <td>Grumpier Old Men</td>\n",
              "      <td>25000000.0</td>\n",
              "      <td>Lancaster Gate</td>\n",
              "      <td>USA</td>\n",
              "      <td>Howard Deutch</td>\n",
              "      <td>Comedy</td>\n",
              "      <td>69870000.0</td>\n",
              "      <td>PG-13</td>\n",
              "      <td>1995-12-22</td>\n",
              "      <td>101</td>\n",
              "      <td>6.6</td>\n",
              "      <td>Walter Matthau</td>\n",
              "      <td>20718</td>\n",
              "      <td>Mark Steven Johnson</td>\n",
              "      <td>1995</td>\n",
              "    </tr>\n",
              "    <tr>\n",
              "      <th>3</th>\n",
              "      <td>4</td>\n",
              "      <td>Waiting to Exhale (1995)</td>\n",
              "      <td>Comedy|Drama|Romance</td>\n",
              "      <td>Waiting to Exhale</td>\n",
              "      <td>16000000.0</td>\n",
              "      <td>Twentieth Century Fox Film Corporation</td>\n",
              "      <td>USA</td>\n",
              "      <td>Forest Whitaker</td>\n",
              "      <td>Comedy</td>\n",
              "      <td>67052156.0</td>\n",
              "      <td>R</td>\n",
              "      <td>1995-12-22</td>\n",
              "      <td>124</td>\n",
              "      <td>5.7</td>\n",
              "      <td>Whitney Houston</td>\n",
              "      <td>7977</td>\n",
              "      <td>Terry McMillan</td>\n",
              "      <td>1995</td>\n",
              "    </tr>\n",
              "    <tr>\n",
              "      <th>4</th>\n",
              "      <td>5</td>\n",
              "      <td>Father of the Bride Part II (1995)</td>\n",
              "      <td>Comedy</td>\n",
              "      <td>Father of the Bride Part II</td>\n",
              "      <td>30000000.0</td>\n",
              "      <td>Sandollar Productions</td>\n",
              "      <td>USA</td>\n",
              "      <td>Charles Shyer</td>\n",
              "      <td>Comedy</td>\n",
              "      <td>76594000.0</td>\n",
              "      <td>PG</td>\n",
              "      <td>1995-12-08</td>\n",
              "      <td>106</td>\n",
              "      <td>5.9</td>\n",
              "      <td>Steve Martin</td>\n",
              "      <td>28658</td>\n",
              "      <td>Albert Hackett</td>\n",
              "      <td>1995</td>\n",
              "    </tr>\n",
              "  </tbody>\n",
              "</table>\n",
              "</div>"
            ],
            "text/plain": [
              "   movieId                               title  ...               writer  year\n",
              "0        1                    Toy Story (1995)  ...        John Lasseter  1995\n",
              "1        2                      Jumanji (1995)  ...   Jonathan Hensleigh  1995\n",
              "2        3             Grumpier Old Men (1995)  ...  Mark Steven Johnson  1995\n",
              "3        4            Waiting to Exhale (1995)  ...       Terry McMillan  1995\n",
              "4        5  Father of the Bride Part II (1995)  ...       Albert Hackett  1995\n",
              "\n",
              "[5 rows x 18 columns]"
            ]
          },
          "metadata": {
            "tags": []
          },
          "execution_count": 30
        }
      ]
    },
    {
      "cell_type": "code",
      "metadata": {
        "id": "BKN71tDxZqk7",
        "colab_type": "code",
        "colab": {
          "base_uri": "https://localhost:8080/",
          "height": 867
        },
        "outputId": "65ab88a1-5c6a-4236-bc01-b4883a66efc5"
      },
      "source": [
        "df[~df[\"country\"].isin([\"USA\",\"UK\"])][\"country\"].value_counts()"
      ],
      "execution_count": 31,
      "outputs": [
        {
          "output_type": "execute_result",
          "data": {
            "text/plain": [
              "France                            198\n",
              "Canada                            106\n",
              "Germany                            73\n",
              "Japan                              57\n",
              "Australia                          55\n",
              "Italy                              45\n",
              "India                              37\n",
              "Spain                              35\n",
              "Ireland                            26\n",
              "South Korea                        25\n",
              "Hong Kong                          24\n",
              "Mexico                             19\n",
              "China                              18\n",
              "New Zealand                        16\n",
              "Denmark                            16\n",
              "Sweden                             15\n",
              "Russia                             14\n",
              "Taiwan                              9\n",
              "Czech Republic                      9\n",
              "Belgium                             7\n",
              "Iran                                7\n",
              "Argentina                           7\n",
              "Switzerland                         6\n",
              "Brazil                              6\n",
              "Netherlands                         6\n",
              "Austria                             6\n",
              "Norway                              6\n",
              "Hungary                             5\n",
              "Finland                             5\n",
              "Chile                               3\n",
              "Israel                              3\n",
              "West Germany                        2\n",
              "South Africa                        2\n",
              "Thailand                            2\n",
              "Greece                              2\n",
              "Colombia                            2\n",
              "Poland                              2\n",
              "Romania                             2\n",
              "Aruba                               1\n",
              "Cuba                                1\n",
              "Ukraine                             1\n",
              "Malta                               1\n",
              "Jamaica                             1\n",
              "Soviet Union                        1\n",
              "Federal Republic of Yugoslavia      1\n",
              "Indonesia                           1\n",
              "Iceland                             1\n",
              "Republic of Macedonia               1\n",
              "Palestine                           1\n",
              "Name: country, dtype: int64"
            ]
          },
          "metadata": {
            "tags": []
          },
          "execution_count": 31
        }
      ]
    },
    {
      "cell_type": "code",
      "metadata": {
        "id": "t6zcTc75ZqlA",
        "colab_type": "code",
        "colab": {
          "base_uri": "https://localhost:8080/",
          "height": 34
        },
        "outputId": "fd623a19-4396-4052-d2e5-a013d9075c31"
      },
      "source": [
        "ratings['userId'].unique().size"
      ],
      "execution_count": 32,
      "outputs": [
        {
          "output_type": "execute_result",
          "data": {
            "text/plain": [
              "283228"
            ]
          },
          "metadata": {
            "tags": []
          },
          "execution_count": 32
        }
      ]
    },
    {
      "cell_type": "code",
      "metadata": {
        "id": "rFqgamHuZqlD",
        "colab_type": "code",
        "colab": {
          "base_uri": "https://localhost:8080/",
          "height": 71
        },
        "outputId": "70500f06-c02a-4ee9-a807-68a16ca6dd4c"
      },
      "source": [
        "wv = KeyedVectors.load_word2vec_format(\"model.bin\", binary=True)"
      ],
      "execution_count": 38,
      "outputs": [
        {
          "output_type": "stream",
          "text": [
            "/usr/local/lib/python3.6/dist-packages/smart_open/smart_open_lib.py:254: UserWarning: This function is deprecated, use smart_open.open instead. See the migration notes for details: https://github.com/RaRe-Technologies/smart_open/blob/master/README.rst#migrating-to-the-new-open-function\n",
            "  'See the migration notes for details: %s' % _MIGRATION_NOTES_URL\n"
          ],
          "name": "stderr"
        }
      ]
    },
    {
      "cell_type": "code",
      "metadata": {
        "id": "ow1ZIkh_ercy",
        "colab_type": "code",
        "colab": {
          "base_uri": "https://localhost:8080/",
          "height": 34
        },
        "outputId": "840be45f-6927-4d37-ac97-b64ab840eefc"
      },
      "source": [
        "wv[\"007\"].shape"
      ],
      "execution_count": 47,
      "outputs": [
        {
          "output_type": "execute_result",
          "data": {
            "text/plain": [
              "(300,)"
            ]
          },
          "metadata": {
            "tags": []
          },
          "execution_count": 47
        }
      ]
    },
    {
      "cell_type": "code",
      "metadata": {
        "id": "iqHZ2MiCfGlg",
        "colab_type": "code",
        "colab": {}
      },
      "source": [
        "ratings_sample = ratings[ratings[\"userId\"]<=50]"
      ],
      "execution_count": 200,
      "outputs": []
    },
    {
      "cell_type": "code",
      "metadata": {
        "id": "KoiYGJTkfwTj",
        "colab_type": "code",
        "colab": {}
      },
      "source": [
        "foreign = df[~df[\"country\"].isin([\"USA\",\"UK\"])]"
      ],
      "execution_count": 61,
      "outputs": []
    },
    {
      "cell_type": "code",
      "metadata": {
        "id": "Ys-UrgFWhOiD",
        "colab_type": "code",
        "colab": {
          "base_uri": "https://localhost:8080/",
          "height": 326
        },
        "outputId": "8482636f-119b-4063-f76f-27c17e181ba4"
      },
      "source": [
        "foreign.head()"
      ],
      "execution_count": 62,
      "outputs": [
        {
          "output_type": "execute_result",
          "data": {
            "text/html": [
              "<div>\n",
              "<style scoped>\n",
              "    .dataframe tbody tr th:only-of-type {\n",
              "        vertical-align: middle;\n",
              "    }\n",
              "\n",
              "    .dataframe tbody tr th {\n",
              "        vertical-align: top;\n",
              "    }\n",
              "\n",
              "    .dataframe thead th {\n",
              "        text-align: right;\n",
              "    }\n",
              "</style>\n",
              "<table border=\"1\" class=\"dataframe\">\n",
              "  <thead>\n",
              "    <tr style=\"text-align: right;\">\n",
              "      <th></th>\n",
              "      <th>movieId</th>\n",
              "      <th>title</th>\n",
              "      <th>genres</th>\n",
              "      <th>name</th>\n",
              "      <th>budget</th>\n",
              "      <th>company</th>\n",
              "      <th>country</th>\n",
              "      <th>director</th>\n",
              "      <th>genre</th>\n",
              "      <th>gross</th>\n",
              "      <th>rating</th>\n",
              "      <th>released</th>\n",
              "      <th>runtime</th>\n",
              "      <th>score</th>\n",
              "      <th>star</th>\n",
              "      <th>votes</th>\n",
              "      <th>writer</th>\n",
              "      <th>year</th>\n",
              "    </tr>\n",
              "  </thead>\n",
              "  <tbody>\n",
              "    <tr>\n",
              "      <th>13</th>\n",
              "      <td>7</td>\n",
              "      <td>Sabrina (1995)</td>\n",
              "      <td>Comedy|Romance</td>\n",
              "      <td>Sabrina</td>\n",
              "      <td>58000000.0</td>\n",
              "      <td>Constellation Entertainment</td>\n",
              "      <td>Germany</td>\n",
              "      <td>Sydney Pollack</td>\n",
              "      <td>Comedy</td>\n",
              "      <td>53672080.0</td>\n",
              "      <td>PG</td>\n",
              "      <td>1995-12-15</td>\n",
              "      <td>127</td>\n",
              "      <td>6.3</td>\n",
              "      <td>Harrison Ford</td>\n",
              "      <td>31451</td>\n",
              "      <td>Samuel A. Taylor</td>\n",
              "      <td>1995</td>\n",
              "    </tr>\n",
              "    <tr>\n",
              "      <th>14</th>\n",
              "      <td>915</td>\n",
              "      <td>Sabrina (1954)</td>\n",
              "      <td>Comedy|Romance</td>\n",
              "      <td>Sabrina</td>\n",
              "      <td>58000000.0</td>\n",
              "      <td>Constellation Entertainment</td>\n",
              "      <td>Germany</td>\n",
              "      <td>Sydney Pollack</td>\n",
              "      <td>Comedy</td>\n",
              "      <td>53672080.0</td>\n",
              "      <td>PG</td>\n",
              "      <td>1995-12-15</td>\n",
              "      <td>127</td>\n",
              "      <td>6.3</td>\n",
              "      <td>Harrison Ford</td>\n",
              "      <td>31451</td>\n",
              "      <td>Samuel A. Taylor</td>\n",
              "      <td>1995</td>\n",
              "    </tr>\n",
              "    <tr>\n",
              "      <th>22</th>\n",
              "      <td>16</td>\n",
              "      <td>Casino (1995)</td>\n",
              "      <td>Crime|Drama</td>\n",
              "      <td>Casino</td>\n",
              "      <td>52000000.0</td>\n",
              "      <td>Universal Pictures</td>\n",
              "      <td>France</td>\n",
              "      <td>Martin Scorsese</td>\n",
              "      <td>Crime</td>\n",
              "      <td>42438300.0</td>\n",
              "      <td>R</td>\n",
              "      <td>1995-11-22</td>\n",
              "      <td>178</td>\n",
              "      <td>8.2</td>\n",
              "      <td>Robert De Niro</td>\n",
              "      <td>367532</td>\n",
              "      <td>Nicholas Pileggi</td>\n",
              "      <td>1995</td>\n",
              "    </tr>\n",
              "    <tr>\n",
              "      <th>31</th>\n",
              "      <td>23</td>\n",
              "      <td>Assassins (1995)</td>\n",
              "      <td>Action|Crime|Thriller</td>\n",
              "      <td>Assassins</td>\n",
              "      <td>50000000.0</td>\n",
              "      <td>Warner Bros.</td>\n",
              "      <td>France</td>\n",
              "      <td>Richard Donner</td>\n",
              "      <td>Action</td>\n",
              "      <td>30306268.0</td>\n",
              "      <td>R</td>\n",
              "      <td>1995-10-06</td>\n",
              "      <td>132</td>\n",
              "      <td>6.3</td>\n",
              "      <td>Sylvester Stallone</td>\n",
              "      <td>67317</td>\n",
              "      <td>Lilly Wachowski</td>\n",
              "      <td>1995</td>\n",
              "    </tr>\n",
              "    <tr>\n",
              "      <th>40</th>\n",
              "      <td>33</td>\n",
              "      <td>Wings of Courage (1995)</td>\n",
              "      <td>Adventure|Romance|IMAX</td>\n",
              "      <td>Wings of Courage</td>\n",
              "      <td>0.0</td>\n",
              "      <td>Iwerks Entertainment</td>\n",
              "      <td>France</td>\n",
              "      <td>Jean-Jacques Annaud</td>\n",
              "      <td>Adventure</td>\n",
              "      <td>15054389.0</td>\n",
              "      <td>G</td>\n",
              "      <td>1996-09-18</td>\n",
              "      <td>50</td>\n",
              "      <td>6.5</td>\n",
              "      <td>Craig Sheffer</td>\n",
              "      <td>537</td>\n",
              "      <td>Alain Godard</td>\n",
              "      <td>1995</td>\n",
              "    </tr>\n",
              "  </tbody>\n",
              "</table>\n",
              "</div>"
            ],
            "text/plain": [
              "    movieId                    title  ...            writer  year\n",
              "13        7           Sabrina (1995)  ...  Samuel A. Taylor  1995\n",
              "14      915           Sabrina (1954)  ...  Samuel A. Taylor  1995\n",
              "22       16            Casino (1995)  ...  Nicholas Pileggi  1995\n",
              "31       23         Assassins (1995)  ...   Lilly Wachowski  1995\n",
              "40       33  Wings of Courage (1995)  ...      Alain Godard  1995\n",
              "\n",
              "[5 rows x 18 columns]"
            ]
          },
          "metadata": {
            "tags": []
          },
          "execution_count": 62
        }
      ]
    },
    {
      "cell_type": "code",
      "metadata": {
        "id": "T_DOyDp4hmZU",
        "colab_type": "code",
        "colab": {}
      },
      "source": [
        "genome = pd.read_csv(data_dir+\"genome-scores.csv\")"
      ],
      "execution_count": 72,
      "outputs": []
    },
    {
      "cell_type": "code",
      "metadata": {
        "id": "F9VomgIGht7t",
        "colab_type": "code",
        "colab": {
          "base_uri": "https://localhost:8080/",
          "height": 221
        },
        "outputId": "5987930f-b746-441e-fcbb-b8ac912307c5"
      },
      "source": [
        "genome[genome[\"movieId\"].isin(np.array([1,2,3]))][\"tagId\"]"
      ],
      "execution_count": 126,
      "outputs": [
        {
          "output_type": "execute_result",
          "data": {
            "text/plain": [
              "0          1\n",
              "1          2\n",
              "2          3\n",
              "3          4\n",
              "4          5\n",
              "        ... \n",
              "3379    1124\n",
              "3380    1125\n",
              "3381    1126\n",
              "3382    1127\n",
              "3383    1128\n",
              "Name: tagId, Length: 3384, dtype: int64"
            ]
          },
          "metadata": {
            "tags": []
          },
          "execution_count": 126
        }
      ]
    },
    {
      "cell_type": "code",
      "metadata": {
        "id": "oyuPgKG9iW62",
        "colab_type": "code",
        "colab": {}
      },
      "source": [
        "#TO DO: Account for tag relevance\n",
        "def get_tags_relevance(mid):\n",
        "  all_tags = genome[genome[\"movieId\"]==mid]\n",
        "  rel = -np.partition(-np.array(all_tags[\"relevance\"]),20)[:20]\n",
        "  temp = all_tags[all_tags[\"relevance\"].isin(rel)][\"tagId\"][:20].tolist()\n",
        "  return metadata[metadata[\"tagId\"].isin(temp)][\"tag\"].tolist()\n",
        "\n",
        "def get_vecs(tags):\n",
        "  ls = []\n",
        "  for tag in tags:\n",
        "    for word in [i.lower() for i in tag.split()]:\n",
        "      try:\n",
        "        ls.append(wv[tag])\n",
        "      except:\n",
        "          pass\n",
        "  return np.array(ls)\n",
        "\n",
        "def id_vec(id):\n",
        "  return get_vecs(get_tags_relevance(id))\n",
        "\n"
      ],
      "execution_count": 163,
      "outputs": []
    },
    {
      "cell_type": "code",
      "metadata": {
        "id": "fYnk2uLMktPa",
        "colab_type": "code",
        "colab": {}
      },
      "source": [
        "foreign_vecs = pd.DataFrame()"
      ],
      "execution_count": 157,
      "outputs": []
    },
    {
      "cell_type": "code",
      "metadata": {
        "id": "gqT7r13lkv61",
        "colab_type": "code",
        "colab": {}
      },
      "source": [
        "foreign_vecs[\"movieId\"] = foreign[\"movieId\"]\n",
        "foreign_ids = foreign_vecs[\"movieId\"].tolist()\n",
        "all_vecs = [id_vec(mid) for mid in foreign_vecs[\"movieId\"].tolist()]"
      ],
      "execution_count": 164,
      "outputs": []
    },
    {
      "cell_type": "code",
      "metadata": {
        "id": "BCHXgHFrmvaC",
        "colab_type": "code",
        "colab": {}
      },
      "source": [
        "def remove_null(vec):\n",
        "  ls =  [] \n",
        "  for i in vec:\n",
        "    if i.size == 0:\n",
        "      ls.append(np.zeros((1,300)))\n",
        "    else:\n",
        "      ls.append(i)\n",
        "  return np.array(ls)\n"
      ],
      "execution_count": 221,
      "outputs": []
    },
    {
      "cell_type": "code",
      "metadata": {
        "id": "vLyHDXnPm2En",
        "colab_type": "code",
        "colab": {
          "base_uri": "https://localhost:8080/",
          "height": 204
        },
        "outputId": "4e311ad6-31ca-423f-89b7-ea63e8136c3d"
      },
      "source": [
        "foreign_vecs[\"movie_vec\"] = [remove_null(vec) for vec in all_vecs]\n",
        "foreign_vecs.head()"
      ],
      "execution_count": 217,
      "outputs": [
        {
          "output_type": "execute_result",
          "data": {
            "text/html": [
              "<div>\n",
              "<style scoped>\n",
              "    .dataframe tbody tr th:only-of-type {\n",
              "        vertical-align: middle;\n",
              "    }\n",
              "\n",
              "    .dataframe tbody tr th {\n",
              "        vertical-align: top;\n",
              "    }\n",
              "\n",
              "    .dataframe thead th {\n",
              "        text-align: right;\n",
              "    }\n",
              "</style>\n",
              "<table border=\"1\" class=\"dataframe\">\n",
              "  <thead>\n",
              "    <tr style=\"text-align: right;\">\n",
              "      <th></th>\n",
              "      <th>movieId</th>\n",
              "      <th>movie_vec</th>\n",
              "    </tr>\n",
              "  </thead>\n",
              "  <tbody>\n",
              "    <tr>\n",
              "      <th>13</th>\n",
              "      <td>7</td>\n",
              "      <td>[[0.093107, -0.01204, 0.000203, 0.079919, -0.0...</td>\n",
              "    </tr>\n",
              "    <tr>\n",
              "      <th>14</th>\n",
              "      <td>915</td>\n",
              "      <td>[[-0.012918, -0.050051, 0.030364, -0.145345, 0...</td>\n",
              "    </tr>\n",
              "    <tr>\n",
              "      <th>22</th>\n",
              "      <td>16</td>\n",
              "      <td>[[0.167327, -0.005989, -0.046007, 0.152078, 0....</td>\n",
              "    </tr>\n",
              "    <tr>\n",
              "      <th>31</th>\n",
              "      <td>23</td>\n",
              "      <td>[[-0.014575, 0.033459, 0.018808, 0.097272, 0.0...</td>\n",
              "    </tr>\n",
              "    <tr>\n",
              "      <th>40</th>\n",
              "      <td>33</td>\n",
              "      <td>[[0.026536, -0.04169, 0.066246, -0.084588, 0.0...</td>\n",
              "    </tr>\n",
              "  </tbody>\n",
              "</table>\n",
              "</div>"
            ],
            "text/plain": [
              "    movieId                                          movie_vec\n",
              "13        7  [[0.093107, -0.01204, 0.000203, 0.079919, -0.0...\n",
              "14      915  [[-0.012918, -0.050051, 0.030364, -0.145345, 0...\n",
              "22       16  [[0.167327, -0.005989, -0.046007, 0.152078, 0....\n",
              "31       23  [[-0.014575, 0.033459, 0.018808, 0.097272, 0.0...\n",
              "40       33  [[0.026536, -0.04169, 0.066246, -0.084588, 0.0..."
            ]
          },
          "metadata": {
            "tags": []
          },
          "execution_count": 217
        }
      ]
    },
    {
      "cell_type": "code",
      "metadata": {
        "id": "7d0HXy_swxxA",
        "colab_type": "code",
        "colab": {
          "base_uri": "https://localhost:8080/",
          "height": 119
        },
        "outputId": "702ea0b4-39b0-4c6f-b28d-98f77fcc9e4a"
      },
      "source": [
        "ratings_sample['movieId'] = ratings_sample[\"movieId\"].apply(lambda x: str(x))\n",
        "user_movies = ratings_sample.groupby(ratings_sample[\"userId\"]).agg({\"movieId\": lambda x: ','.join(x)})"
      ],
      "execution_count": 201,
      "outputs": [
        {
          "output_type": "stream",
          "text": [
            "/usr/local/lib/python3.6/dist-packages/ipykernel_launcher.py:1: SettingWithCopyWarning: \n",
            "A value is trying to be set on a copy of a slice from a DataFrame.\n",
            "Try using .loc[row_indexer,col_indexer] = value instead\n",
            "\n",
            "See the caveats in the documentation: https://pandas.pydata.org/pandas-docs/stable/user_guide/indexing.html#returning-a-view-versus-a-copy\n",
            "  \"\"\"Entry point for launching an IPython kernel.\n"
          ],
          "name": "stderr"
        }
      ]
    },
    {
      "cell_type": "code",
      "metadata": {
        "id": "6CAhf2elyPBW",
        "colab_type": "code",
        "colab": {}
      },
      "source": [
        "def get_ls_vecs(ls_ids):\n",
        "  ls_ids = [int(i) for i in ls_ids.split(',')]\n",
        "  all_vecs = [remove_null(id_vec(mid)) for mid in ls_ids]\n",
        "  out = []\n",
        "  for vec in all_vecs:\n",
        "    if vec.size == 0:\n",
        "      continue \n",
        "    else:\n",
        "        out.append(vec)\n",
        "  return np.vstack(out)\n"
      ],
      "execution_count": 225,
      "outputs": []
    },
    {
      "cell_type": "code",
      "metadata": {
        "id": "0FNKILyaycwl",
        "colab_type": "code",
        "colab": {}
      },
      "source": [
        "user_movies[\"user_vector\"] = user_movies[\"movieId\"].apply(get_ls_vecs)"
      ],
      "execution_count": 226,
      "outputs": []
    },
    {
      "cell_type": "code",
      "metadata": {
        "id": "7vMjMPKE2hPs",
        "colab_type": "code",
        "colab": {
          "base_uri": "https://localhost:8080/",
          "height": 235
        },
        "outputId": "7acb284f-47b6-46a6-fc4e-fbb73d2a3bd2"
      },
      "source": [
        "user_movies.head()"
      ],
      "execution_count": 230,
      "outputs": [
        {
          "output_type": "execute_result",
          "data": {
            "text/html": [
              "<div>\n",
              "<style scoped>\n",
              "    .dataframe tbody tr th:only-of-type {\n",
              "        vertical-align: middle;\n",
              "    }\n",
              "\n",
              "    .dataframe tbody tr th {\n",
              "        vertical-align: top;\n",
              "    }\n",
              "\n",
              "    .dataframe thead th {\n",
              "        text-align: right;\n",
              "    }\n",
              "</style>\n",
              "<table border=\"1\" class=\"dataframe\">\n",
              "  <thead>\n",
              "    <tr style=\"text-align: right;\">\n",
              "      <th></th>\n",
              "      <th>movieId</th>\n",
              "      <th>user_vector</th>\n",
              "    </tr>\n",
              "    <tr>\n",
              "      <th>userId</th>\n",
              "      <th></th>\n",
              "      <th></th>\n",
              "    </tr>\n",
              "  </thead>\n",
              "  <tbody>\n",
              "    <tr>\n",
              "      <th>1</th>\n",
              "      <td>307,481,1091,1257,1449,1590,1591,2134,2478,284...</td>\n",
              "      <td>[[0.016626, 0.06113, 0.06345, -0.008968, -0.01...</td>\n",
              "    </tr>\n",
              "    <tr>\n",
              "      <th>2</th>\n",
              "      <td>170,849,1186,1235,1244,1296,1663,1962,2108,224...</td>\n",
              "      <td>[[0.044119, -0.048573, 0.021254, 0.052899, -0....</td>\n",
              "    </tr>\n",
              "    <tr>\n",
              "      <th>3</th>\n",
              "      <td>640,828,960,1221,1321,1645,1825,1985,2024,2028...</td>\n",
              "      <td>[[0.106495, -0.017905, 0.043308, 0.015604, -0....</td>\n",
              "    </tr>\n",
              "    <tr>\n",
              "      <th>4</th>\n",
              "      <td>1,2,5,6,10,11,16,19,20,23,25,31,32,34,36,39,41...</td>\n",
              "      <td>[[-0.012086, 0.083213, -0.07851, 0.033313, 0.0...</td>\n",
              "    </tr>\n",
              "    <tr>\n",
              "      <th>5</th>\n",
              "      <td>47,50,293,296,318,527,728,778,858,1147,1186,11...</td>\n",
              "      <td>[[-0.00103, -0.024518, -0.046511, -0.010788, 0...</td>\n",
              "    </tr>\n",
              "  </tbody>\n",
              "</table>\n",
              "</div>"
            ],
            "text/plain": [
              "                                                  movieId                                        user_vector\n",
              "userId                                                                                                      \n",
              "1       307,481,1091,1257,1449,1590,1591,2134,2478,284...  [[0.016626, 0.06113, 0.06345, -0.008968, -0.01...\n",
              "2       170,849,1186,1235,1244,1296,1663,1962,2108,224...  [[0.044119, -0.048573, 0.021254, 0.052899, -0....\n",
              "3       640,828,960,1221,1321,1645,1825,1985,2024,2028...  [[0.106495, -0.017905, 0.043308, 0.015604, -0....\n",
              "4       1,2,5,6,10,11,16,19,20,23,25,31,32,34,36,39,41...  [[-0.012086, 0.083213, -0.07851, 0.033313, 0.0...\n",
              "5       47,50,293,296,318,527,728,778,858,1147,1186,11...  [[-0.00103, -0.024518, -0.046511, -0.010788, 0..."
            ]
          },
          "metadata": {
            "tags": []
          },
          "execution_count": 230
        }
      ]
    },
    {
      "cell_type": "code",
      "metadata": {
        "id": "OG0xuxN65pTb",
        "colab_type": "code",
        "colab": {
          "base_uri": "https://localhost:8080/",
          "height": 119
        },
        "outputId": "c2ea6e86-716d-4db5-bbbe-adbac6f7d90a"
      },
      "source": [
        "def clean(x): \n",
        "  if x.size == 0: \n",
        "    return np.zeros((1,300)) \n",
        "  else: \n",
        "    return x\n",
        "foreign[\"movie_vec\"] = foreign_vecs[\"movie_vec\"].apply(clean)"
      ],
      "execution_count": 240,
      "outputs": [
        {
          "output_type": "stream",
          "text": [
            "/usr/local/lib/python3.6/dist-packages/ipykernel_launcher.py:6: SettingWithCopyWarning: \n",
            "A value is trying to be set on a copy of a slice from a DataFrame.\n",
            "Try using .loc[row_indexer,col_indexer] = value instead\n",
            "\n",
            "See the caveats in the documentation: https://pandas.pydata.org/pandas-docs/stable/user_guide/indexing.html#returning-a-view-versus-a-copy\n",
            "  \n"
          ],
          "name": "stderr"
        }
      ]
    },
    {
      "cell_type": "code",
      "metadata": {
        "id": "WZtI2i606Kdk",
        "colab_type": "code",
        "colab": {
          "base_uri": "https://localhost:8080/",
          "height": 564
        },
        "outputId": "2871f691-dc15-4b3d-fecb-0ba4869be71f"
      },
      "source": [
        "foreign.head()"
      ],
      "execution_count": 241,
      "outputs": [
        {
          "output_type": "execute_result",
          "data": {
            "text/html": [
              "<div>\n",
              "<style scoped>\n",
              "    .dataframe tbody tr th:only-of-type {\n",
              "        vertical-align: middle;\n",
              "    }\n",
              "\n",
              "    .dataframe tbody tr th {\n",
              "        vertical-align: top;\n",
              "    }\n",
              "\n",
              "    .dataframe thead th {\n",
              "        text-align: right;\n",
              "    }\n",
              "</style>\n",
              "<table border=\"1\" class=\"dataframe\">\n",
              "  <thead>\n",
              "    <tr style=\"text-align: right;\">\n",
              "      <th></th>\n",
              "      <th>movieId</th>\n",
              "      <th>title</th>\n",
              "      <th>genres</th>\n",
              "      <th>name</th>\n",
              "      <th>budget</th>\n",
              "      <th>company</th>\n",
              "      <th>country</th>\n",
              "      <th>director</th>\n",
              "      <th>genre</th>\n",
              "      <th>gross</th>\n",
              "      <th>rating</th>\n",
              "      <th>released</th>\n",
              "      <th>runtime</th>\n",
              "      <th>score</th>\n",
              "      <th>star</th>\n",
              "      <th>votes</th>\n",
              "      <th>writer</th>\n",
              "      <th>year</th>\n",
              "      <th>movie_vec</th>\n",
              "    </tr>\n",
              "  </thead>\n",
              "  <tbody>\n",
              "    <tr>\n",
              "      <th>13</th>\n",
              "      <td>7</td>\n",
              "      <td>Sabrina (1995)</td>\n",
              "      <td>Comedy|Romance</td>\n",
              "      <td>Sabrina</td>\n",
              "      <td>58000000.0</td>\n",
              "      <td>Constellation Entertainment</td>\n",
              "      <td>Germany</td>\n",
              "      <td>Sydney Pollack</td>\n",
              "      <td>Comedy</td>\n",
              "      <td>53672080.0</td>\n",
              "      <td>PG</td>\n",
              "      <td>1995-12-15</td>\n",
              "      <td>127</td>\n",
              "      <td>6.3</td>\n",
              "      <td>Harrison Ford</td>\n",
              "      <td>31451</td>\n",
              "      <td>Samuel A. Taylor</td>\n",
              "      <td>1995</td>\n",
              "      <td>[[0.093107, -0.01204, 0.000203, 0.079919, -0.0...</td>\n",
              "    </tr>\n",
              "    <tr>\n",
              "      <th>14</th>\n",
              "      <td>915</td>\n",
              "      <td>Sabrina (1954)</td>\n",
              "      <td>Comedy|Romance</td>\n",
              "      <td>Sabrina</td>\n",
              "      <td>58000000.0</td>\n",
              "      <td>Constellation Entertainment</td>\n",
              "      <td>Germany</td>\n",
              "      <td>Sydney Pollack</td>\n",
              "      <td>Comedy</td>\n",
              "      <td>53672080.0</td>\n",
              "      <td>PG</td>\n",
              "      <td>1995-12-15</td>\n",
              "      <td>127</td>\n",
              "      <td>6.3</td>\n",
              "      <td>Harrison Ford</td>\n",
              "      <td>31451</td>\n",
              "      <td>Samuel A. Taylor</td>\n",
              "      <td>1995</td>\n",
              "      <td>[[-0.012918, -0.050051, 0.030364, -0.145345, 0...</td>\n",
              "    </tr>\n",
              "    <tr>\n",
              "      <th>22</th>\n",
              "      <td>16</td>\n",
              "      <td>Casino (1995)</td>\n",
              "      <td>Crime|Drama</td>\n",
              "      <td>Casino</td>\n",
              "      <td>52000000.0</td>\n",
              "      <td>Universal Pictures</td>\n",
              "      <td>France</td>\n",
              "      <td>Martin Scorsese</td>\n",
              "      <td>Crime</td>\n",
              "      <td>42438300.0</td>\n",
              "      <td>R</td>\n",
              "      <td>1995-11-22</td>\n",
              "      <td>178</td>\n",
              "      <td>8.2</td>\n",
              "      <td>Robert De Niro</td>\n",
              "      <td>367532</td>\n",
              "      <td>Nicholas Pileggi</td>\n",
              "      <td>1995</td>\n",
              "      <td>[[0.167327, -0.005989, -0.046007, 0.152078, 0....</td>\n",
              "    </tr>\n",
              "    <tr>\n",
              "      <th>31</th>\n",
              "      <td>23</td>\n",
              "      <td>Assassins (1995)</td>\n",
              "      <td>Action|Crime|Thriller</td>\n",
              "      <td>Assassins</td>\n",
              "      <td>50000000.0</td>\n",
              "      <td>Warner Bros.</td>\n",
              "      <td>France</td>\n",
              "      <td>Richard Donner</td>\n",
              "      <td>Action</td>\n",
              "      <td>30306268.0</td>\n",
              "      <td>R</td>\n",
              "      <td>1995-10-06</td>\n",
              "      <td>132</td>\n",
              "      <td>6.3</td>\n",
              "      <td>Sylvester Stallone</td>\n",
              "      <td>67317</td>\n",
              "      <td>Lilly Wachowski</td>\n",
              "      <td>1995</td>\n",
              "      <td>[[-0.014575, 0.033459, 0.018808, 0.097272, 0.0...</td>\n",
              "    </tr>\n",
              "    <tr>\n",
              "      <th>40</th>\n",
              "      <td>33</td>\n",
              "      <td>Wings of Courage (1995)</td>\n",
              "      <td>Adventure|Romance|IMAX</td>\n",
              "      <td>Wings of Courage</td>\n",
              "      <td>0.0</td>\n",
              "      <td>Iwerks Entertainment</td>\n",
              "      <td>France</td>\n",
              "      <td>Jean-Jacques Annaud</td>\n",
              "      <td>Adventure</td>\n",
              "      <td>15054389.0</td>\n",
              "      <td>G</td>\n",
              "      <td>1996-09-18</td>\n",
              "      <td>50</td>\n",
              "      <td>6.5</td>\n",
              "      <td>Craig Sheffer</td>\n",
              "      <td>537</td>\n",
              "      <td>Alain Godard</td>\n",
              "      <td>1995</td>\n",
              "      <td>[[0.026536, -0.04169, 0.066246, -0.084588, 0.0...</td>\n",
              "    </tr>\n",
              "  </tbody>\n",
              "</table>\n",
              "</div>"
            ],
            "text/plain": [
              "    movieId  ...                                          movie_vec\n",
              "13        7  ...  [[0.093107, -0.01204, 0.000203, 0.079919, -0.0...\n",
              "14      915  ...  [[-0.012918, -0.050051, 0.030364, -0.145345, 0...\n",
              "22       16  ...  [[0.167327, -0.005989, -0.046007, 0.152078, 0....\n",
              "31       23  ...  [[-0.014575, 0.033459, 0.018808, 0.097272, 0.0...\n",
              "40       33  ...  [[0.026536, -0.04169, 0.066246, -0.084588, 0.0...\n",
              "\n",
              "[5 rows x 19 columns]"
            ]
          },
          "metadata": {
            "tags": []
          },
          "execution_count": 241
        }
      ]
    },
    {
      "cell_type": "code",
      "metadata": {
        "id": "Vo3oPuBd7CVl",
        "colab_type": "code",
        "colab": {}
      },
      "source": [
        "def cosine_sim(a,b):\n",
        "  try:\n",
        "    dotp = np.matmul(a,b.T)\n",
        "    norma = np.linalg.norm(a)\n",
        "    normb = np.linalg.norm(b)\n",
        "    if norma == 0 or normb ==0:\n",
        "      return 0\n",
        "    else:\n",
        "      return np.linalg.norm(dotp/(norma * normb))\n",
        "  except:\n",
        "    return 0 "
      ],
      "execution_count": 303,
      "outputs": []
    },
    {
      "cell_type": "code",
      "metadata": {
        "id": "hCXXyOBS7nlb",
        "colab_type": "code",
        "colab": {}
      },
      "source": [
        "\n",
        "def get_ranking(vec):\n",
        "  return [cosine_sim(vec,fvec) for fvec in foreign[\"movie_vec\"]]\n"
      ],
      "execution_count": 333,
      "outputs": []
    },
    {
      "cell_type": "code",
      "metadata": {
        "id": "RXmZNvgB8ACL",
        "colab_type": "code",
        "colab": {}
      },
      "source": [
        ""
      ],
      "execution_count": 298,
      "outputs": []
    },
    {
      "cell_type": "code",
      "metadata": {
        "id": "QNJJxEt_8oqf",
        "colab_type": "code",
        "colab": {}
      },
      "source": [
        "def get_movies(ls_movies):\n",
        "  mids = [int(mid) for mid in ls_movies.split(',')]\n",
        "  return movies[movies[\"movieId\"].isin(mids)][[\"title\",\"genres\"]]\n",
        "def get_rank_list(num):\n",
        "  tst = user_movies['user_vector'].iloc[num]\n",
        "  foreign[\"Scores\"] = get_ranking(tst)\n",
        "  print(get_movies(user_movies[\"movieId\"].iloc[num]))\n",
        "  print(\"----------------------------------------------\")\n",
        "  print(foreign.sort_values(\"Scores\",ascending=False)[[\"name\",\"genres\"]].head(10))"
      ],
      "execution_count": 340,
      "outputs": []
    },
    {
      "cell_type": "code",
      "metadata": {
        "id": "3i06aZc58vB9",
        "colab_type": "code",
        "colab": {
          "base_uri": "https://localhost:8080/",
          "height": 1000
        },
        "outputId": "59f5dbec-d859-4a4c-cd07-a0c6ba078028"
      },
      "source": [
        "get_rank_list(5)\n"
      ],
      "execution_count": 345,
      "outputs": [
        {
          "output_type": "stream",
          "text": [
            "                                                 title                                           genres\n",
            "9                                     GoldenEye (1995)                        Action|Adventure|Thriller\n",
            "20                                   Get Shorty (1995)                            Comedy|Crime|Thriller\n",
            "31           Twelve Monkeys (a.k.a. 12 Monkeys) (1995)                          Mystery|Sci-Fi|Thriller\n",
            "46                         Seven (a.k.a. Se7en) (1995)                                 Mystery|Thriller\n",
            "49                          Usual Suspects, The (1995)                           Crime|Mystery|Thriller\n",
            "109                                 Taxi Driver (1976)                             Crime|Drama|Thriller\n",
            "139                               Birdcage, The (1996)                                           Comedy\n",
            "151                              Batman Forever (1995)                    Action|Adventure|Comedy|Crime\n",
            "159                                Crimson Tide (1995)                               Drama|Thriller|War\n",
            "161                                   Desperado (1995)                           Action|Romance|Western\n",
            "168                                     Hackers (1995)                  Action|Adventure|Crime|Thriller\n",
            "171                                 Judge Dredd (1995)                              Action|Crime|Sci-Fi\n",
            "202               Under Siege 2: Dark Territory (1995)                                           Action\n",
            "206                                  Waterworld (1995)                          Action|Adventure|Sci-Fi\n",
            "221                            Don Juan DeMarco (1995)                             Comedy|Drama|Romance\n",
            "224                                   Drop Zone (1994)                                  Action|Thriller\n",
            "258                                Little Women (1994)                                            Drama\n",
            "270  Mary Shelley's Frankenstein (Frankenstein) (1994)                              Drama|Horror|Sci-Fi\n",
            "285                        Natural Born Killers (1994)                            Action|Crime|Thriller\n",
            "293                                Pulp Fiction (1994)                      Comedy|Crime|Drama|Thriller\n",
            "304   Three Colors: Blue (Trois couleurs: Bleu) (1993)                                            Drama\n",
            "312                             Specialist, The (1994)                            Action|Drama|Thriller\n",
            "313                                    Stargate (1994)                          Action|Adventure|Sci-Fi\n",
            "315                   Shawshank Redemption, The (1994)                                      Crime|Drama\n",
            "333                 What's Eating Gilbert Grape (1993)                                            Drama\n",
            "346                                 Client, The (1994)                           Drama|Mystery|Thriller\n",
            "349                                   Crow, The (1994)                    Action|Crime|Fantasy|Thriller\n",
            "360                              Lion King, The (1994)  Adventure|Animation|Children|Drama|Musical|IMAX\n",
            "363                                   Mask, The (1994)                      Action|Comedy|Crime|Fantasy\n",
            "376                                   True Lies (1994)         Action|Adventure|Comedy|Romance|Thriller\n",
            "416                       Beverly Hills Cop III (1994)                     Action|Comedy|Crime|Thriller\n",
            "430                                 Cliffhanger (1993)                        Action|Adventure|Thriller\n",
            "436                                        Dave (1993)                                   Comedy|Romance\n",
            "438                              Demolition Man (1993)                          Action|Adventure|Sci-Fi\n",
            "450                                   Firm, The (1993)                                   Drama|Thriller\n",
            "453                               Fugitive, The (1993)                                         Thriller\n",
            "511                     Remains of the Day, The (1993)                                    Drama|Romance\n",
            "548                       Three Musketeers, The (1993)                  Action|Adventure|Comedy|Romance\n",
            "551                                True Romance (1993)                                   Crime|Thriller\n",
            "586                                      Batman (1989)                            Action|Crime|Thriller\n",
            "587                   Silence of the Lambs, The (1991)                            Crime|Horror|Thriller\n",
            "658     All Things Fair (Lust och fägring stor) (1995)                                Drama|Romance|War\n",
            "----------------------------------------------\n",
            "                           name                               genres\n",
            "4175                Nacho Libre                               Comedy\n",
            "1298                 Dirty Work                               Comedy\n",
            "4084                 Wolf Creek                Crime|Horror|Thriller\n",
            "3089              Two Evil Eyes                               Horror\n",
            "426   Robin Hood: Men in Tights                               Comedy\n",
            "5424                Upside Down                 Drama|Romance|Sci-Fi\n",
            "2027                Nurse Betty  Comedy|Crime|Drama|Romance|Thriller\n",
            "5040            I Saw the Devil                       Crime|Thriller\n",
            "2557                  Zoolander                               Comedy\n",
            "5282               Silent House                      Horror|Thriller\n"
          ],
          "name": "stdout"
        },
        {
          "output_type": "stream",
          "text": [
            "/usr/local/lib/python3.6/dist-packages/ipykernel_launcher.py:6: SettingWithCopyWarning: \n",
            "A value is trying to be set on a copy of a slice from a DataFrame.\n",
            "Try using .loc[row_indexer,col_indexer] = value instead\n",
            "\n",
            "See the caveats in the documentation: https://pandas.pydata.org/pandas-docs/stable/user_guide/indexing.html#returning-a-view-versus-a-copy\n",
            "  \n"
          ],
          "name": "stderr"
        }
      ]
    },
    {
      "cell_type": "code",
      "metadata": {
        "id": "HdpcWNOdI1NW",
        "colab_type": "code",
        "colab": {}
      },
      "source": [
        ""
      ],
      "execution_count": null,
      "outputs": []
    }
  ]
}